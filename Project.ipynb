{
 "cells": [
  {
   "cell_type": "code",
   "execution_count": 1,
   "metadata": {
    "collapsed": true
   },
   "outputs": [],
   "source": [
    "#required packages\n",
    "import requests\n",
    "import json\n",
    "import csv\n",
    "\n",
    "import sklearn\n",
    "import pandas\n",
    "import numpy\n",
    "import matplotlib.pyplot"
   ]
  },
  {
   "cell_type": "code",
   "execution_count": 14,
   "metadata": {
    "collapsed": true
   },
   "outputs": [],
   "source": [
    "#getting json\n",
    "def getitems(iterations):\n",
    "    '''queries PoE API to collect items into a list'''\n",
    "    apipath_ = \"http://api.pathofexile.com/public-stash-tabs/\"\n",
    "    id_ = \"116306827-121847288-114286128-131835488-123127819\"\n",
    "    items = []\n",
    "    uniqueaccount = []\n",
    "\n",
    "    for i in range(iterations):\n",
    "        #get next shard\n",
    "        if id_ != \"\":\n",
    "            apipath_ += \"?id=:\" + id_\n",
    "        r = requests.get(apipath_)\n",
    "\n",
    "        #bad query\n",
    "        if r.status_code != 200:\n",
    "            print('status at request:', i+1, ':', r.status_code)\n",
    "            return items\n",
    "\n",
    "        results = json.loads(r.text)\n",
    "        id_ = results['next_change_id']\n",
    "        stashes = results['stashes']\n",
    "\n",
    "        #check users\n",
    "        for user in stashes:\n",
    "            #public users only\n",
    "            if user['accountName'] !=  None:\n",
    "                #unique users\n",
    "                if not(user['accountName'] in uniqueaccount):\n",
    "                    uniqueaccount.append(user['accountName'])\n",
    "                    items += user['items']\n",
    "\n",
    "        apipath_ = \"http://api.pathofexile.com/public-stash-tabs/\"\n",
    "\n",
    "    print('Unique users found:', len(uniqueaccount))\n",
    "    print('Total items found:', len(items))\n",
    "    return items\n",
    "\n",
    "def parseweapons(items):\n",
    "    '''gets only list of weapons from all item list from trading'''\n",
    "    itemtable = []\n",
    "    \n",
    "    for item in items:\n",
    "        #reset\n",
    "        rarity = 'na'\n",
    "        sockets = -1\n",
    "        links = -1\n",
    "        league = 'na'\n",
    "        ilvl = -1\n",
    "        phys = -1\n",
    "        crit = -1\n",
    "        aps  = -1\n",
    "        price = 'na'\n",
    "        \n",
    "        #skip nonweapons\n",
    "        iconurl = item['icon']\n",
    "        if ('Weapons' not in iconurl):\n",
    "            continue\n",
    "        \n",
    "        #item rarity\n",
    "        if 'explicitMods' in item.keys():        \n",
    "            mods = len(item['explicitMods'])\n",
    "            if mods <= 2:\n",
    "                rarity = 'magic'\n",
    "            else:\n",
    "                if 'flavourText' in item.keys():\n",
    "                    rarity = 'unique'\n",
    "                else:\n",
    "                    rarity = 'rare'\n",
    "        else:\n",
    "            rarity = 'normal'\n",
    "        \n",
    "        #sockets\n",
    "        sockets = len(item['sockets'])\n",
    "        \n",
    "        #links\n",
    "        maxgroup = 1\n",
    "        for s in item['sockets']:\n",
    "            groupcount = s['group']\n",
    "            if groupcount > maxgroup:\n",
    "                maxgroup += 1\n",
    "        links = sockets - maxgroup\n",
    "        \n",
    "        #league\n",
    "        league = item['league']\n",
    "        \n",
    "        #item level\n",
    "        ilvl = item['ilvl']\n",
    "        \n",
    "        properties = item['properties']\n",
    "        \n",
    "        #phys, crit, aps        \n",
    "        for prop in properties:\n",
    "            if prop['name'] == 'Physical Damage':\n",
    "                physval = prop['values'][0][0].split('-')\n",
    "                phys = (float(physval[0]) + float(physval[1]))/2\n",
    "            if prop['name'] == 'Critical Strike Chance':\n",
    "                crit = float(prop['values'][0][0].strip('%'))\n",
    "            if prop['name'] == 'Attacks per Second':\n",
    "                aps = float(prop['values'][0][0])\n",
    "        \n",
    "        #price\n",
    "        if 'note' in item.keys():\n",
    "            pricestring = item['note'].split()\n",
    "            if (pricestring[0] == '~price'):\n",
    "                price = pricestring\n",
    "            \n",
    "        itemdata = [price, rarity, sockets, links, league, ilvl, phys, crit, aps]\n",
    "        itemtable.append(itemdata)\n",
    "    return itemtable"
   ]
  },
  {
   "cell_type": "code",
   "execution_count": 17,
   "metadata": {},
   "outputs": [
    {
     "name": "stdout",
     "output_type": "stream",
     "text": [
      "Unique users found: 105\n",
      "Total items found: 2677\n"
     ]
    }
   ],
   "source": [
    "items = getitems(1000)"
   ]
  },
  {
   "cell_type": "code",
   "execution_count": 18,
   "metadata": {
    "collapsed": true
   },
   "outputs": [],
   "source": [
    "#for i in range(10):\n",
    "#    print(items[3])\n",
    "\n",
    "itemdata = parseweapons(items)"
   ]
  },
  {
   "cell_type": "code",
   "execution_count": 19,
   "metadata": {},
   "outputs": [
    {
     "name": "stdout",
     "output_type": "stream",
     "text": [
      "[['~price', '10', 'exa'], 'unique', 1, 0, 'Hardcore', 71, 41.5, 6.5, 1.31]\n",
      "['na', 'rare', 2, 1, 'Hardcore', 56, 56.0, 8.0, 1.2]\n",
      "['na', 'rare', 3, 1, 'Hardcore', 56, 176.5, 6.95, 1.25]\n",
      "['na', 'rare', 2, 1, 'Hardcore', 64, 129.5, 5.0, 1.3]\n",
      "['na', 'rare', 2, 1, 'Hardcore', 68, 169.5, 6.5, 1.3]\n",
      "['na', 'unique', 2, 1, 'Hardcore', 69, 36.5, 6.5, 1.3]\n",
      "['na', 'normal', 3, 2, 'Standard', 54, 36.5, 5.0, 1.3]\n",
      "['na', 'rare', 1, 0, 'Hardcore', 57, 151.5, 7.45, 1.2]\n",
      "['na', 'rare', 3, 2, 'Hardcore', 68, 45.5, 7.0, 1.2]\n",
      "['na', 'unique', 1, 0, 'Standard', 76, 40.5, 5.0, 1.45]\n",
      "['na', 'unique', 2, 1, 'Standard', 78, 76.5, 6.9, 1.32]\n",
      "['na', 'unique', 3, 2, 'Standard', 67, 61.0, 6.5, 1.3]\n",
      "['na', 'unique', 2, 1, 'Standard', 71, 57.0, 5.0, 1.68]\n",
      "['na', 'unique', 2, 1, 'Standard', 75, 113.0, 6.0, 1.68]\n",
      "['na', 'unique', 4, 2, 'Standard', 62, 169.5, 6.5, 1.38]\n",
      "['na', 'unique', 2, 1, 'Standard', 78, 67.5, 6.4, 1.2]\n",
      "['na', 'unique', 3, 2, 'Standard', 77, 194.0, 5.0, 1.88]\n",
      "['na', 'rare', 3, 1, 'Hardcore', 52, 111.0, 8.38, 1.27]\n",
      "['na', 'rare', 3, 2, 'Hardcore', 69, 123.5, 7.08, 1.2]\n",
      "['na', 'unique', 3, 2, 'Hardcore', 52, 39.5, 6.65, 1.65]\n",
      "['na', 'rare', 2, 1, 'Hardcore', 60, 135.0, 6.4, 1.5]\n",
      "['na', 'rare', 2, 1, 'Hardcore', 58, 54.5, 6.5, 1.2]\n",
      "['na', 'rare', 2, 1, 'Hardcore', 58, 47.0, 6.5, 1.2]\n",
      "['na', 'rare', 2, 1, 'Hardcore', 57, 78.5, 6.3, 1.75]\n",
      "['na', 'rare', 2, 1, 'Hardcore', 69, 38.5, 8.0, 1.2]\n",
      "['na', 'unique', 2, 1, 'Hardcore', 63, 63.5, 7.0, 1.3]\n",
      "['na', 'unique', 2, 1, 'Standard', 71, 177.5, 5.0, 1.2]\n",
      "['na', 'normal', 2, 1, 'Standard', 75, 75.5, 5.0, 1.4]\n",
      "['na', 'normal', 2, 1, 'Standard', 75, 44.0, 5.0, 1.5]\n",
      "['na', 'rare', 2, 1, 'Standard', 69, 38.5, 8.0, 1.2]\n",
      "['na', 'rare', 2, 1, 'Standard', 76, 280.5, 5.0, 1.25]\n",
      "['na', 'unique', 2, 1, 'Standard', 80, 24.5, 6.2, 1.6]\n",
      "['na', 'unique', 1, 0, 'Standard', 78, 32.0, 5.0, 1.4]\n",
      "['na', 'unique', 1, 0, 'Standard', 78, 56.5, 6.0, 1.34]\n",
      "['na', 'rare', 1, 0, 'Standard', 78, 319.0, 5.0, 1.2]\n",
      "['na', 'unique', 2, 1, 'Standard', 80, 86.5, 5.0, 1.3]\n",
      "['na', 'unique', 3, 2, 'Standard', 53, 40.0, 6.3, 1.45]\n",
      "['na', 'rare', 3, 2, 'Standard', 21, 22.0, 6.3, 1.4]\n",
      "['na', 'unique', 1, 0, 'Standard', 68, 22.5, 6.0, 1.3]\n",
      "['na', 'unique', 2, 1, 'Standard', 69, 44.0, 5.5, 1.5]\n",
      "['na', 'unique', 4, 3, 'Standard', 71, 70.5, 6.0, 1.2]\n",
      "['na', 'unique', 2, 1, 'Standard', 58, 41.0, 6.3, 1.54]\n",
      "['na', 'unique', 2, 1, 'Standard', 56, 27.0, 5.0, 1.79]\n",
      "['na', 'unique', 2, 1, 'Standard', 69, 20.5, 7.0, 1.3]\n",
      "['na', 'unique', 2, 1, 'Standard', 80, 36.5, 6.2, 1.25]\n",
      "['na', 'unique', 2, 1, 'Standard', 72, 43.0, 6.2, 1.25]\n",
      "['na', 'unique', 3, 2, 'Standard', 74, 43.0, 5.5, 1.5]\n",
      "['na', 'unique', 3, 2, 'Standard', 70, 48.5, 8.65, 1.59]\n",
      "['na', 'unique', 1, 0, 'Standard', 70, 10.0, 7.0, 1.2]\n",
      "['na', 'unique', 3, 2, 'Hardcore', 77, 43.0, 5.5, 1.5]\n",
      "['na', 'unique', 3, 2, 'Hardcore', 27, 10.0, 7.0, 1.2]\n",
      "['na', 'unique', 1, 0, 'Hardcore', 36, 47.0, 6.3, 1.54]\n",
      "['na', 'unique', 1, 0, 'Standard', 69, 25.0, 6.0, 1.37]\n",
      "['na', 'unique', 1, 0, 'Standard', 76, 31.5, 5.0, 1.4]\n",
      "['na', 'unique', 1, 0, 'Standard', 72, 25.0, 6.0, 1.37]\n",
      "['na', 'unique', 2, 1, 'Standard', 63, 51.5, 7.87, 1.8]\n",
      "['na', 'unique', 2, 1, 'Standard', 71, 84.5, 5.0, 1.3]\n",
      "['na', 'rare', 4, 3, 'Standard', 72, 63.0, 6.0, 1.25]\n",
      "['na', 'unique', 2, 1, 'Standard', 7, 32.5, 5.0, 1.4]\n",
      "['na', 'unique', 2, 1, 'Standard', 59, 34.5, 5.0, 1.4]\n",
      "['na', 'rare', 1, 0, 'Standard', 11, 22.0, 6.0, 1.43]\n",
      "['na', 'magic', 6, 3, 'Standard', 87, 63.0, 7.45, 1.2]\n",
      "['na', 'unique', 3, 1, 'Standard', 70, 105.0, 5.0, 1.72]\n",
      "['na', 'magic', 1, 0, 'Standard', 59, 45.5, 6.5, 1.3]\n",
      "['na', 'rare', 2, 1, 'Standard', 77, 45.5, 7.0, 1.2]\n",
      "['na', 'unique', 4, 3, 'Standard', 76, -1, 6.0, 1.85]\n",
      "['na', 'rare', 2, 1, 'Standard', 73, 60.5, 6.0, 1.2]\n",
      "['na', 'normal', 3, 2, 'Standard', 71, 55.5, 5.0, 1.15]\n",
      "['na', 'normal', 3, 2, 'Standard', 70, 53.0, 5.0, 1.15]\n",
      "['na', 'unique', 3, 2, 'Standard', 69, 231.5, 5.0, 1.2]\n",
      "['na', 'rare', 2, 1, 'Standard', 74, 45.5, 7.0, 1.2]\n",
      "['na', 'normal', 1, 0, 'Standard', 73, 77.5, 5.0, 1.15]\n",
      "['na', 'unique', 4, 2, 'Standard', 72, 382.5, 5.0, 0.99]\n",
      "['na', 'unique', 3, 2, 'Standard', 75, 93.5, 7.0, 1.5]\n",
      "['na', 'unique', 2, 1, 'Standard', 65, 91.5, 5.0, 1.3]\n",
      "['na', 'unique', 2, 1, 'Standard', 69, 169.0, 6.85, 1.2]\n",
      "['na', 'unique', 2, 1, 'Standard', 74, 47.5, 6.3, 1.45]\n",
      "['na', 'unique', 1, 0, 'Standard', 68, 45.0, 5.5, 1.5]\n",
      "['na', 'unique', 3, 2, 'Standard', 69, 42.0, 5.5, 1.5]\n",
      "['na', 'unique', 2, 1, 'Standard', 76, 59.5, 6.5, 1.3]\n",
      "['na', 'unique', 1, 0, 'Standard', 77, 40.0, 6.85, 1.59]\n",
      "['na', 'unique', 1, 0, 'Standard', 74, 83.5, 6.85, 1.5]\n",
      "['na', 'unique', 3, 2, 'Standard', 74, 173.5, 7.3, 1.2]\n",
      "['na', 'unique', 1, 0, 'Standard', 74, 193.0, 6.5, 1.08]\n",
      "['na', 'unique', 1, 0, 'Standard', 76, 68.0, 5.0, 1.47]\n",
      "['na', 'unique', 3, 2, 'Standard', 76, 75.5, 5.0, 1.3]\n",
      "['na', 'unique', 3, 2, 'Standard', 75, 132.5, 5.0, 1.62]\n",
      "['na', 'unique', 2, 1, 'Standard', 75, 24.5, 7.0, 1.5]\n",
      "['na', 'unique', 2, 1, 'Standard', 73, 87.0, 7.45, 1.5]\n",
      "['na', 'unique', 3, 2, 'Standard', 78, 65.0, 5.0, 1.25]\n",
      "['na', 'rare', 1, 0, 'Hardcore', 75, 54.5, 8.84, 1.2]\n",
      "['na', 'rare', 3, 2, 'Standard', 77, 174.5, 6.0, 1.25]\n",
      "['na', 'rare', 4, 3, 'Standard', 77, 172.5, 6.0, 1.35]\n",
      "['na', 'unique', 2, 1, 'Standard', 69, 64.5, 5.0, 1.25]\n",
      "['na', 'unique', 3, 2, 'Standard', 74, 63.0, 5.0, 1.25]\n",
      "['na', 'unique', 3, 2, 'Standard', 69, 34.5, 5.0, 1.4]\n",
      "['na', 'unique', 1, 0, 'Standard', 68, 25.0, 6.0, 1.38]\n",
      "['na', 'unique', 3, 2, 'Standard', 71, 42.0, 5.5, 1.5]\n",
      "['na', 'unique', 3, 2, 'Standard', 79, 150.5, 6.5, 1.38]\n",
      "['na', 'unique', 3, 2, 'Standard', 68, 78.0, 5.0, 1.3]\n",
      "['na', 'unique', 3, 2, 'Standard', 74, 236.5, 5.0, 1.2]\n",
      "['na', 'unique', 2, 1, 'Standard', 69, 60.5, 6.0, 1.38]\n",
      "['na', 'unique', 2, 1, 'Standard', 72, 64.5, 6.5, 1.3]\n",
      "['na', 'unique', 2, 1, 'Standard', 67, 171.5, 6.5, 1.38]\n",
      "['na', 'unique', 2, 1, 'Standard', 72, 34.5, 5.0, 1.4]\n",
      "['na', 'unique', 3, 2, 'Standard', 75, 75.5, 5.0, 1.31]\n",
      "['na', 'unique', 2, 1, 'Standard', 75, 36.5, 6.2, 1.25]\n",
      "['na', 'unique', 2, 1, 'Hardcore', 76, 6.0, 7.0, 1.4]\n",
      "['na', 'unique', 2, 1, 'Standard', 39, 11.0, 5.0, 3.0]\n",
      "['na', 'rare', 3, 2, 'Standard', 75, 45.5, 7.0, 1.2]\n",
      "['na', 'rare', 3, 2, 'Standard', 73, 54.5, 7.48, 1.4]\n",
      "['na', 'unique', 2, 1, 'Standard', 70, 98.0, 6.5, 1.15]\n",
      "['na', 'unique', 2, 1, 'Standard', 68, 304.0, 6.5, 1.25]\n",
      "['na', 'unique', 2, 1, 'Standard', 71, 36.5, 6.5, 1.3]\n",
      "['na', 'rare', 2, 1, 'Standard', 74, 34.0, 7.0, 1.5]\n",
      "['na', 'rare', 3, 2, 'Standard', 62, 41.5, 7.0, 1.3]\n",
      "['na', 'unique', 4, 2, 'Standard', 69, 170.5, 5.0, 1.61]\n",
      "['na', 'rare', 1, 0, 'Standard', 72, 37.0, 7.0, 1.35]\n",
      "['na', 'rare', 3, 2, 'Standard', 73, 47.5, 6.3, 1.45]\n",
      "['na', 'rare', 3, 2, 'Standard', 73, 176.5, 6.0, 1.69]\n",
      "['na', 'rare', 2, 1, 'Standard', 72, 64.5, 6.2, 1.25]\n",
      "['na', 'unique', 2, 1, 'Standard', 70, 41.5, 7.0, 1.3]\n",
      "['na', 'rare', 2, 1, 'Standard', 77, 163.0, 6.0, 1.35]\n",
      "['na', 'unique', 1, 0, 'Standard', 79, 40.5, 6.3, 1.54]\n",
      "['na', 'rare', 2, 1, 'Standard', 75, 74.5, 7.31, 1.74]\n",
      "['na', 'rare', 2, 1, 'Standard', 78, 33.0, 8.28, 1.92]\n",
      "['na', 'unique', 3, 2, 'Standard', 69, 40.5, 6.5, 1.34]\n",
      "['na', 'normal', 2, 1, 'Standard', 77, 40.0, 6.0, 1.3]\n",
      "['na', 'rare', 3, 2, 'Standard', 79, 41.5, 8.54, 1.3]\n",
      "['na', 'rare', 3, 2, 'Standard', 76, 45.0, 8.75, 1.35]\n",
      "['na', 'rare', 1, 0, 'Standard', 78, 69.5, 7.0, 1.2]\n",
      "['na', 'unique', 3, 2, 'Standard', 54, 11.0, 5.0, 3.0]\n",
      "['na', 'unique', 3, 2, 'Standard', 72, 10.0, 7.0, 1.2]\n",
      "['na', 'unique', 2, 1, 'Standard', 57, 6.0, 7.0, 1.4]\n",
      "['na', 'unique', 3, 2, 'Standard', 65, 20.5, 7.0, 1.3]\n",
      "['na', 'unique', 3, 2, 'Standard', 80, 6.0, 7.0, 1.4]\n",
      "['na', 'rare', 6, 5, 'Standard', 66, 70.5, 6.0, 1.2]\n",
      "['na', 'rare', 2, 1, 'Standard', 66, 56.0, 6.3, 1.79]\n",
      "['na', 'rare', 3, 2, 'Standard', 67, 42.5, 6.0, 1.25]\n",
      "['na', 'rare', 3, 2, 'Standard', 32, 36.5, 6.2, 1.25]\n",
      "['na', 'unique', 3, 2, 'Standard', 72, 246.0, 5.0, 1.5]\n",
      "['na', 'unique', 3, 2, 'Standard', 57, 26.5, 6.2, 1.6]\n",
      "['na', 'unique', 2, 1, 'Standard', 69, -1, 6.0, 1.77]\n",
      "['na', 'unique', 3, 2, 'Standard', 69, 36.5, 6.2, 1.25]\n",
      "['na', 'unique', 3, 1, 'Standard', 60, 16.5, 5.0, 1.59]\n",
      "['na', 'unique', 3, 2, 'Standard', 66, 25.0, 6.0, 1.42]\n",
      "['na', 'rare', 3, 2, 'Hardcore', 3, 10.5, 5.0, 1.5]\n",
      "['na', 'normal', 5, 4, 'Standard', 72, 66.5, 7.4, 1.2]\n",
      "['na', 'rare', 2, 1, 'Standard', 69, 54.5, 6.5, 1.2]\n",
      "['na', 'rare', 1, 0, 'Hardcore', 48, 33.0, 6.3, 1.5]\n",
      "['na', 'rare', 2, 1, 'Hardcore', 69, 54.0, 6.5, 1.3]\n",
      "['na', 'rare', 3, 2, 'Hardcore', 41, 40.0, 8.0, 1.2]\n",
      "['na', 'rare', 1, 0, 'Hardcore', 29, 20.5, 7.0, 1.3]\n",
      "['na', 'rare', 3, 2, 'Hardcore', 14, 11.0, 7.0, 1.5]\n",
      "['na', 'rare', 3, 2, 'Hardcore', 42, 54.0, 7.5, 1.5]\n",
      "['na', 'rare', 3, 2, 'Hardcore', 35, 57.5, 6.3, 1.64]\n",
      "['na', 'rare', 1, 0, 'Hardcore', 19, 11.0, 5.65, 1.49]\n",
      "['na', 'rare', 2, 1, 'Hardcore', 45, 55.5, 6.1, 1.67]\n",
      "['na', 'rare', 1, 0, 'Hardcore', 12, 28.5, 5.0, 1.31]\n",
      "['na', 'rare', 3, 2, 'Hardcore', 28, 105.5, 5.0, 1.32]\n",
      "['na', 'rare', 3, 2, 'Hardcore', 24, 27.5, 6.0, 1.35]\n",
      "['na', 'rare', 2, 1, 'Hardcore', 13, 16.0, 7.0, 1.5]\n",
      "['na', 'rare', 1, 0, 'Hardcore', 35, 32.5, 8.4, 1.2]\n",
      "['na', 'rare', 5, 4, 'Hardcore', 60, 105.5, 5.75, 1.36]\n",
      "['na', 'unique', 1, 0, 'Hardcore', 69, 62.0, 7.0, 1.3]\n",
      "['na', 'normal', 2, 1, 'Standard', 70, 95.0, 5.0, 1.25]\n",
      "['na', 'normal', 1, 0, 'Standard', 70, 87.0, 6.1, 1.25]\n",
      "['na', 'rare', 2, 1, 'Hardcore', 59, 56.0, 7.0, 1.2]\n",
      "['na', 'unique', 2, 1, 'Hardcore', 72, 31.0, 6.1, 1.65]\n",
      "['na', 'unique', 3, 2, 'Hardcore', 74, 42.5, 5.0, 1.32]\n",
      "['na', 'rare', 2, 1, 'Hardcore', 62, 56.0, 7.35, 1.3]\n",
      "['na', 'normal', 3, 1, 'Hardcore', 76, 9.0, 5.0, 1.4]\n",
      "['na', 'unique', 3, 2, 'Hardcore', 75, 57.0, 6.0, 1.36]\n",
      "['na', 'unique', 1, 0, 'Hardcore', 77, 16.5, 5.0, 1.59]\n",
      "['na', 'magic', 3, 2, 'Hardcore', 59, 61.0, 5.0, 1.3]\n",
      "['na', 'magic', 2, 1, 'Hardcore', 54, 39.0, 5.0, 1.3]\n",
      "['na', 'normal', 2, 1, 'Hardcore', 71, 36.5, 6.2, 1.25]\n",
      "['na', 'rare', 2, 1, 'Hardcore', 73, 54.5, 8.71, 1.3]\n",
      "['na', 'normal', 3, 2, 'Hardcore', 71, 94.0, 6.2, 1.15]\n",
      "['na', 'rare', 3, 2, 'Hardcore', 59, 60.5, 7.5, 1.44]\n",
      "['na', 'rare', 1, 0, 'Standard', 69, 199.5, 6.5, 1.3]\n",
      "['na', 'unique', 2, 1, 'Hardcore', 71, 369.0, 5.0, 0.99]\n",
      "['na', 'unique', 2, 1, 'Standard', 74, 111.5, 5.0, 1.72]\n",
      "['na', 'unique', 1, 0, 'Standard', 76, 74.5, 9.28, 1.31]\n",
      "['na', 'rare', 3, 2, 'Standard', 69, 71.0, 5.5, 1.98]\n",
      "['na', 'unique', 3, 2, 'Standard', 75, 61.5, 7.0, 1.3]\n",
      "['na', 'unique', 2, 1, 'Standard', 76, 39.0, 5.5, 1.86]\n",
      "['na', 'unique', 2, 1, 'Standard', 69, 65.0, 5.5, 1.6]\n",
      "['na', 'unique', 1, 0, 'Standard', 40, 34.0, 6.1, 1.65]\n",
      "['na', 'unique', 2, 1, 'Standard', 70, 26.5, 5.0, 1.79]\n",
      "['na', 'rare', 2, 1, 'Standard', 74, 48.0, 6.3, 1.4]\n",
      "['na', 'unique', 1, 0, 'Standard', 67, 19.0, 5.0, 1.54]\n",
      "['na', 'unique', 3, 2, 'Standard', 72, 66.5, 7.0, 1.3]\n",
      "['na', 'unique', 1, 0, 'Standard', 77, 60.5, 5.0, 1.71]\n",
      "['na', 'rare', 1, 0, 'Standard', 73, 114.0, 6.5, 1.41]\n",
      "['na', 'rare', 2, 1, 'Standard', 41, 29.5, 6.3, 1.5]\n",
      "['na', 'rare', 2, 1, 'Standard', 42, 29.0, 6.3, 1.72]\n",
      "['na', 'rare', 3, 2, 'Standard', 59, 44.0, 6.6, 1.68]\n",
      "['na', 'rare', 3, 2, 'Standard', 48, 78.5, 5.0, 1.15]\n",
      "['na', 'rare', 1, 0, 'Standard', 58, 63.0, 6.0, 1.25]\n",
      "['na', 'rare', 2, 1, 'Standard', 45, 54.0, 5.0, 1.2]\n",
      "['na', 'rare', 3, 2, 'Standard', 68, 50.5, 5.9, 1.3]\n",
      "['na', 'normal', 3, 2, 'Standard', 77, 51.5, 6.3, 1.45]\n",
      "['na', 'normal', 2, 1, 'Standard', 78, 45.0, 6.0, 1.6]\n",
      "['na', 'normal', 3, 2, 'Standard', 74, 44.5, 6.3, 1.5]\n",
      "['na', 'unique', 3, 2, 'Standard', 70, 162.5, 8.94, 1.4]\n",
      "['na', 'rare', 5, 4, 'Standard', 78, 211.0, 6.55, 1.27]\n",
      "['na', 'unique', 3, 2, 'Standard', 55, 74.0, 9.52, 1.27]\n",
      "['na', 'normal', 3, 2, 'Standard', 73, 60.5, 6.0, 1.2]\n",
      "['na', 'rare', 3, 2, 'Standard', 74, 120.0, 6.0, 1.35]\n",
      "['na', 'rare', 3, 2, 'Standard', 77, 91.0, 5.0, 1.79]\n",
      "['na', 'normal', 1, 0, 'Standard', 70, 53.0, 5.0, 1.15]\n",
      "['na', 'rare', 1, 0, 'Standard', 75, 29.5, 5.0, 1.5]\n",
      "['na', 'normal', 2, 1, 'Standard', 56, 56.0, 5.0, 1.15]\n",
      "['na', 'normal', 2, 1, 'Standard', 62, 77.5, 5.0, 1.15]\n",
      "[['~price', '2', 'jew'], 'rare', 1, 0, 'Standard', 8, 13.5, 6.0, 1.62]\n",
      "['na', 'rare', 2, 1, 'Hardcore', 69, 45.5, 7.0, 1.2]\n",
      "['na', 'rare', 2, 1, 'Hardcore', 69, 38.5, 8.0, 1.33]\n",
      "['na', 'rare', 1, 0, 'Hardcore', 70, 212.0, 7.54, 1.15]\n",
      "['na', 'rare', 1, 0, 'Hardcore', 32, 17.5, 6.0, 1.25]\n",
      "['na', 'rare', 3, 2, 'Hardcore', 71, 48.0, 6.3, 1.4]\n",
      "['na', 'rare', 3, 2, 'Hardcore', 71, 59.5, 7.8, 1.2]\n",
      "['na', 'rare', 5, 4, 'Hardcore', 67, 109.0, 6.1, 1.25]\n",
      "['na', 'rare', 3, 2, 'Hardcore', 67, 120.5, 5.55, 1.2]\n",
      "['na', 'rare', 3, 2, 'Hardcore', 70, 54.5, 6.5, 1.2]\n",
      "['na', 'rare', 1, 0, 'Hardcore', 69, 120.0, 5.0, 1.68]\n",
      "['na', 'rare', 3, 2, 'Hardcore', 69, 54.5, 6.5, 1.31]\n",
      "['na', 'rare', 2, 1, 'Hardcore', 10, 15.5, 6.5, 1.47]\n",
      "[['~price', '2', 'fuse'], 'unique', 1, 0, 'Standard', 49, 12.5, 6.0, 1.3]\n",
      "[['~price', '2', 'fuse'], 'unique', 2, 1, 'Standard', 56, 51.5, 7.87, 1.8]\n",
      "[['~price', '2', 'fuse'], 'unique', 2, 1, 'Standard', 56, 74.5, 6.3, 1.67]\n",
      "[['~price', '4', 'fuse'], 'rare', 1, 0, 'Standard', 75, 95.0, 6.5, 1.3]\n",
      "[['~price', '60', 'fuse'], 'unique', 3, 2, 'Standard', 65, 43.0, 5.5, 1.86]\n",
      "['na', 'rare', 3, 2, 'Hardcore', 84, 94.0, 6.2, 1.15]\n",
      "['na', 'normal', 2, 1, 'Hardcore', 83, 49.0, 6.0, 1.5]\n",
      "['na', 'normal', 5, 4, 'Hardcore', 83, 99.0, 6.0, 1.2]\n",
      "['na', 'normal', 2, 1, 'Hardcore', 83, 87.0, 6.1, 1.25]\n",
      "['na', 'normal', 3, 2, 'Hardcore', 83, 46.0, 5.5, 1.6]\n",
      "['na', 'normal', 1, 0, 'Hardcore', 83, 52.0, 6.3, 1.5]\n",
      "['na', 'normal', 3, 2, 'Hardcore', 83, 47.5, 6.3, 1.45]\n",
      "['na', 'normal', 3, 2, 'Hardcore', 83, 88.5, 5.0, 1.15]\n",
      "['na', 'rare', 3, 1, 'Hardcore', 83, 86.0, 6.5, 1.2]\n",
      "['na', 'normal', 1, 0, 'Hardcore', 83, 92.0, 5.0, 1.25]\n",
      "['na', 'normal', 2, 1, 'Hardcore', 83, 34.0, 7.0, 1.5]\n",
      "['na', 'normal', 2, 1, 'Hardcore', 83, 102.5, 7.0, 1.2]\n",
      "['na', 'rare', 3, 2, 'Hardcore', 83, 48.0, 6.3, 1.63]\n",
      "['na', 'normal', 1, 0, 'Hardcore', 83, 45.5, 6.3, 1.5]\n",
      "['na', 'normal', 1, 0, 'Hardcore', 83, 61.5, 5.0, 1.35]\n",
      "['na', 'normal', 3, 2, 'Hardcore', 83, 102.5, 7.0, 1.2]\n",
      "['na', 'normal', 3, 2, 'Hardcore', 83, 75.0, 6.0, 1.35]\n",
      "['na', 'normal', 2, 1, 'Hardcore', 83, 46.0, 5.5, 1.6]\n",
      "['na', 'rare', 2, 1, 'Hardcore', 83, 58.0, 6.3, 1.5]\n",
      "['na', 'rare', 1, 0, 'Hardcore', 83, 63.0, 7.45, 1.2]\n",
      "['na', 'magic', 1, 0, 'Hardcore', 83, 46.0, 5.5, 1.6]\n",
      "['na', 'magic', 2, 1, 'Hardcore', 83, 45.5, 6.3, 1.5]\n",
      "['na', 'unique', 1, 0, 'Standard', 80, 170.5, 6.7, 1.2]\n",
      "['na', 'rare', 1, 0, 'Standard', 72, 147.5, 7.2, 1.2]\n",
      "['na', 'rare', 2, 1, 'Standard', 79, 50.0, 6.7, 1.68]\n",
      "['na', 'rare', 4, 3, 'Standard', 75, 67.5, 6.4, 1.2]\n",
      "['na', 'rare', 2, 1, 'Standard', 76, 83.5, 6.5, 1.15]\n",
      "['na', 'normal', 3, 1, 'Standard', 1, 8.0, 6.0, 1.5]\n",
      "[['~price', '15', 'chaos'], 'rare', 2, 1, 'Standard', 59, 128.5, 7.68, 1.15]\n",
      "['na', 'unique', 3, 2, 'Standard', 76, 93.5, 7.0, 1.5]\n",
      "['na', 'unique', 3, 2, 'Standard', 71, 82.5, 6.0, 1.3]\n",
      "['na', 'unique', 1, 0, 'Standard', 79, 96.5, 5.0, 1.45]\n",
      "['na', 'unique', 1, 0, 'Standard', 74, 90.0, 5.0, 1.3]\n",
      "['na', 'unique', 3, 2, 'Standard', 77, 310.5, 5.0, 1.15]\n",
      "['na', 'rare', 3, 2, 'Hardcore', 71, 92.5, 6.0, 1.36]\n",
      "['na', 'rare', 2, 1, 'Hardcore', 70, 148.5, 5.7, 1.45]\n",
      "['na', 'rare', 3, 2, 'Hardcore', 68, 61.5, 6.0, 1.25]\n",
      "['na', 'unique', 3, 2, 'Hardcore', 76, 44.5, 5.0, 1.32]\n",
      "['na', 'unique', 1, 0, 'Hardcore', 70, 17.5, 5.0, 1.59]\n",
      "['na', 'rare', 2, 1, 'Hardcore', 75, 311.0, 5.0, 1.25]\n",
      "['na', 'rare', 3, 2, 'Hardcore', 75, 91.0, 7.0, 1.2]\n",
      "['na', 'unique', 3, 2, 'Hardcore', 56, 48.0, 6.95, 1.64]\n",
      "['na', 'rare', 2, 1, 'Hardcore', 75, 38.5, 8.0, 1.2]\n",
      "['na', 'unique', 5, 3, 'Hardcore', 74, 98.0, 6.5, 1.15]\n",
      "['na', 'unique', 2, 1, 'Hardcore', 76, 58.0, 5.0, 1.67]\n",
      "['na', 'unique', 2, 1, 'Hardcore', 75, 189.0, 6.05, 1.15]\n",
      "['na', 'rare', 3, 2, 'Standard', 80, 64.0, 6.0, 1.2]\n",
      "['na', 'unique', 2, 1, 'Standard', 77, 62.5, 5.5, 1.6]\n",
      "['na', 'unique', 1, 0, 'Standard', 62, 55.5, 6.0, 1.31]\n",
      "['na', 'unique', 3, 2, 'Standard', 65, 209.0, 5.0, 1.25]\n",
      "['na', 'rare', 3, 2, 'Standard', 66, 108.0, 7.0, 1.2]\n",
      "['na', 'rare', 2, 1, 'Standard', 75, 107.0, 8.32, 1.38]\n",
      "['na', 'rare', 3, 2, 'Standard', 79, 34.0, 9.66, 1.5]\n",
      "['na', 'rare', 3, 2, 'Standard', 69, 48.0, 6.3, 1.4]\n",
      "['na', 'rare', 1, 0, 'Standard', 69, 40.0, 8.0, 1.45]\n",
      "['na', 'normal', 3, 2, 'Standard', 80, 106.0, 5.0, 1.1]\n",
      "['na', 'unique', 3, 2, 'Standard', 75, 78.0, 5.0, 1.3]\n",
      "['na', 'rare', 2, 1, 'Standard', 76, 40.0, 6.3, 1.45]\n",
      "['na', 'normal', 2, 1, 'Standard', 69, 15.5, 6.3, 1.5]\n",
      "['na', 'rare', 3, 2, 'Standard', 74, 38.5, 8.96, 1.2]\n",
      "['na', 'rare', 3, 2, 'Standard', 75, 182.0, 5.0, 1.25]\n",
      "['na', 'rare', 3, 2, 'Standard', 74, 202.5, 5.0, 1.54]\n",
      "['na', 'rare', 2, 1, 'Standard', 73, 39.0, 7.0, 1.35]\n",
      "['na', 'rare', 3, 2, 'Standard', 75, 37.0, 6.3, 1.4]\n",
      "['na', 'rare', 3, 2, 'Standard', 72, 113.5, 5.0, 1.35]\n",
      "['na', 'rare', 3, 2, 'Standard', 76, 51.0, 6.6, 1.4]\n",
      "['na', 'rare', 2, 1, 'Standard', 75, 42.5, 6.0, 1.4]\n",
      "['na', 'unique', 3, 2, 'Standard', 74, 34.5, 5.0, 1.4]\n",
      "['na', 'unique', 2, 1, 'Standard', 76, 20.5, 7.0, 1.3]\n",
      "['na', 'rare', 2, 1, 'Standard', 74, 95.0, 7.0, 1.2]\n",
      "['na', 'unique', 1, 0, 'Standard', 75, 98.0, 5.0, 1.25]\n",
      "['na', 'normal', 5, 4, 'Hardcore', 55, 40.0, 6.0, 1.3]\n",
      "['na', 'rare', 3, 2, 'Hardcore', 69, 46.0, 6.3, 1.4]\n",
      "['na', 'magic', 5, 4, 'Hardcore', 72, 92.5, 6.0, 1.2]\n",
      "['na', 'normal', 1, 0, 'Standard', 73, 10.0, 7.0, 1.2]\n",
      "['na', 'unique', 1, 0, 'Standard', 70, 363.5, 5.0, 0.99]\n",
      "['na', 'unique', 2, 1, 'Standard', 59, 36.5, 6.2, 1.25]\n",
      "['na', 'normal', 1, 0, 'Standard', 72, 77.5, 5.0, 1.15]\n",
      "['na', 'unique', 3, 2, 'Standard', 73, 29.0, 6.1, 1.65]\n",
      "['na', 'unique', 3, 1, 'Standard', 72, 41.5, 6.2, 1.25]\n",
      "['na', 'unique', 3, 2, 'Standard', 70, 111.5, 6.0, 1.68]\n",
      "['na', 'unique', 2, 1, 'Standard', 71, 25.5, 6.3, 1.67]\n",
      "['na', 'normal', 1, 0, 'Standard', 71, 27.0, 8.0, 1.2]\n",
      "['na', 'unique', 3, 2, 'Standard', 72, 16.5, 5.0, 1.59]\n",
      "['na', 'unique', 2, 1, 'Standard', 73, 84.5, 8.96, 1.29]\n",
      "['na', 'unique', 2, 1, 'Standard', 71, 94.0, 6.2, 1.15]\n",
      "['na', 'unique', 2, 1, 'Standard', 70, 20.5, 7.0, 1.3]\n"
     ]
    }
   ],
   "source": [
    "for i in range(len(itemdata)):\n",
    "    print(itemdata[i])"
   ]
  },
  {
   "cell_type": "code",
   "execution_count": 77,
   "metadata": {
    "collapsed": true
   },
   "outputs": [],
   "source": [
    "def priceconvert(price):\n",
    "    '''change price to chaos from list'''\n",
    "    prices = dict()\n",
    "    prices['chaos'] = 1\n",
    "    prices['ex'] = 105\n",
    "    prices['exa'] = 105\n",
    "    prices['exalted'] = 105\n",
    "    prices['gcp'] = 1.1\n",
    "    prices['gemc'] = 1.1\n",
    "    prices['fus'] = 0.6\n",
    "    prices['fuse'] = 0.6\n",
    "    prices['alch'] = 0.3\n",
    "    prices['alchemy'] = 0.3\n",
    "    prices['jew'] = 0.15\n",
    "    prices['chance'] = 0.13\n",
    "    prices['div'] = 19\n",
    "    prices['divine'] = 19\n",
    "    prices['chisel'] = 0.27\n",
    "    prices['cart'] = 0.27\n",
    "    prices['scour'] = 0.5\n",
    "    prices['blesse'] = 0.25\n",
    "    prices['regal'] = 0.52\n",
    "    prices['rega'] = 0.52\n",
    "    prices['regr'] = 1.1\n",
    "    prices['regret'] = 1.1\n",
    "    prices['vaal'] = 1.1\n",
    "    \n",
    "    if len(price) != 3:\n",
    "        return -1\n",
    "    else:\n",
    "        val = float(price[1])\n",
    "        if price[2] in prices:\n",
    "            return val*prices[price[2]]\n",
    "        else:\n",
    "            return -1\n",
    "        \n",
    "def pricedata(items):\n",
    "    '''change item prices to all chaos'''\n",
    "    citem = []\n",
    "    for item in items:\n",
    "        price = item[0]\n",
    "        features = item[1:]\n",
    "        cprice = priceconvert(price)\n",
    "        newf = [cprice] + features\n",
    "        citem.append(newf)\n",
    "    return citem\n",
    "\n",
    "def cleanuniques(items):\n",
    "    '''removes uniques'''\n",
    "    nuitem = []\n",
    "    for item in items:\n",
    "        if item[1] != 'unique':\n",
    "            nuitem.append(item)\n",
    "    return(nuitem)\n",
    "\n",
    "def listeditems(items):\n",
    "    '''store only priced items'''\n",
    "    pitem = []\n",
    "    for item in items:\n",
    "        if item[0] != -1:\n",
    "            pitem.append(item)\n",
    "    return pitem"
   ]
  },
  {
   "cell_type": "code",
   "execution_count": 82,
   "metadata": {},
   "outputs": [
    {
     "data": {
      "text/plain": [
       "[[0.3, 'rare', 1, 0, 'Standard', 8, 13.5, 6.0, 1.62],\n",
       " [2.4, 'rare', 1, 0, 'Standard', 75, 95.0, 6.5, 1.3],\n",
       " [15.0, 'rare', 2, 1, 'Standard', 59, 128.5, 7.68, 1.15]]"
      ]
     },
     "execution_count": 82,
     "metadata": {},
     "output_type": "execute_result"
    }
   ],
   "source": [
    "equalval = pricedata(itemdata)\n",
    "clean = cleanuniques(equalval)\n",
    "priced = listeditems(clean)\n",
    "priced"
   ]
  },
  {
   "cell_type": "code",
   "execution_count": 83,
   "metadata": {
    "collapsed": true
   },
   "outputs": [],
   "source": [
    "import sklearn.preprocessing"
   ]
  },
  {
   "cell_type": "code",
   "execution_count": 93,
   "metadata": {},
   "outputs": [],
   "source": [
    "#label encoding\n",
    "data = numpy.array(priced)\n",
    "y = data[:,0]\n",
    "X = data[:,1:]\n",
    "label = sklearn.preprocessing.LabelEncoder()"
   ]
  },
  {
   "cell_type": "code",
   "execution_count": 94,
   "metadata": {},
   "outputs": [
    {
     "name": "stdout",
     "output_type": "stream",
     "text": [
      "['rare' '1' '0' 'Standard' '8' '13.5' '6.0' '1.62']\n",
      "['0' '1' '0' '0' '8' '13.5' '6.0' '1.62']\n"
     ]
    }
   ],
   "source": [
    "print(X[0])\n",
    "\n",
    "X[:,0] = label.fit_transform(X[:,0])\n",
    "X[:,3] = label.fit_transform(X[:,3])\n",
    "print(X[0])"
   ]
  },
  {
   "cell_type": "code",
   "execution_count": 95,
   "metadata": {},
   "outputs": [
    {
     "name": "stdout",
     "output_type": "stream",
     "text": [
      "[[   0.      1.      0.      0.      8.     13.5     6.      1.62]\n",
      " [   0.      1.      0.      0.     75.     95.      6.5     1.3 ]\n",
      " [   0.      2.      1.      0.     59.    128.5     7.68    1.15]]\n"
     ]
    }
   ],
   "source": [
    "X = X.astype(float)\n",
    "y = y.astype(float)\n",
    "print(X)"
   ]
  },
  {
   "cell_type": "code",
   "execution_count": 91,
   "metadata": {},
   "outputs": [],
   "source": [
    "import sklearn.decomposition\n",
    "import sklearn.preprocessing"
   ]
  },
  {
   "cell_type": "code",
   "execution_count": 96,
   "metadata": {
    "collapsed": true
   },
   "outputs": [],
   "source": [
    "#PCA elimates redundant features\n",
    "scaler = sklearn.preprocessing.StandardScaler()\n",
    "X[:,[1,2,4,5,6,7]] = scaler.fit_transform(X[:,[1,2,4,5,6,7]])\n",
    "pca = sklearn.decomposition.PCA(n_components=None)\n",
    "pcaX = pca.fit_transform(X)"
   ]
  },
  {
   "cell_type": "code",
   "execution_count": 101,
   "metadata": {},
   "outputs": [
    {
     "data": {
      "image/png": "[encoded data removed]",
      "text/plain": [
       "<matplotlib.figure.Figure at 0x7f5c908fd898>"
      ]
     },
     "metadata": {},
     "output_type": "display_data"
    }
   ],
   "source": [
    "var = pca.explained_variance_ratio_\n",
    "cvar = numpy.cumsum(var)\n",
    "\n",
    "xrange = numpy.arange(len(cvar))\n",
    "xrange = xrange + numpy.ones(len(cvar))\n",
    "\n",
    "matplotlib.pyplot.plot(xrange, cvar, '-')\n",
    "matplotlib.pyplot.show()"
   ]
  },
  {
   "cell_type": "code",
   "execution_count": 102,
   "metadata": {},
   "outputs": [
    {
     "name": "stdout",
     "output_type": "stream",
     "text": [
      "[[-2.63916616 -0.79941797]\n",
      " [-0.13312128  1.4889517 ]\n",
      " [ 2.77228745 -0.68953373]]\n"
     ]
    }
   ],
   "source": [
    "fitpca = sklearn.decomposition.PCA(n_components=2)\n",
    "X = fitpca.fit_transform(X)\n",
    "print(X)"
   ]
  },
  {
   "cell_type": "code",
   "execution_count": 104,
   "metadata": {},
   "outputs": [
    {
     "name": "stdout",
     "output_type": "stream",
     "text": [
      "X with PCA selected features:\n",
      " [[-2.63916616 -0.79941797]\n",
      " [-0.13312128  1.4889517 ]\n",
      " [ 2.77228745 -0.68953373]]\n",
      "y values:\n",
      " [  0.3   2.4  15. ]\n"
     ]
    }
   ],
   "source": [
    "print('X with PCA selected features:\\n',X)\n",
    "print('y values:\\n', y)"
   ]
  },
  {
   "cell_type": "code",
   "execution_count": 105,
   "metadata": {
    "collapsed": true
   },
   "outputs": [],
   "source": [
    "import sklearn.neighbors\n",
    "import sklearn.ensemble\n",
    "import sklearn.svm\n",
    "import mpl_toolkits.mplot3d"
   ]
  },
  {
   "cell_type": "code",
   "execution_count": 106,
   "metadata": {},
   "outputs": [
    {
     "data": {
      "image/png": "[encoded data removed]",
      "text/plain": [
       "<matplotlib.figure.Figure at 0x7f5c90f2f630>"
      ]
     },
     "metadata": {},
     "output_type": "display_data"
    }
   ],
   "source": [
    "#visualize priced item data since we have two PCA features\n",
    "figure = matplotlib.pyplot.figure()\n",
    "axes = mpl_toolkits.mplot3d.Axes3D(figure)\n",
    "\n",
    "axes.scatter(X[:,0], X[:,1], y)\n",
    "matplotlib.pyplot.show()\n",
    "#i wish we had more data :')"
   ]
  },
  {
   "cell_type": "code",
   "execution_count": 120,
   "metadata": {
    "collapsed": true
   },
   "outputs": [],
   "source": [
    "def plotheatmap(classifer):\n",
    "    x1range = numpy.linspace(-3,3, num=100)\n",
    "    x2range = numpy.linspace(-1,2, num=100)\n",
    "    imgarr = []\n",
    "    \n",
    "    for x2 in x2range:\n",
    "        row = []\n",
    "        for x1 in x1range:\n",
    "            point = numpy.array([x1, x2])\n",
    "            point = point.reshape(1,-1)\n",
    "            val = classifer.predict(point)[0]\n",
    "            row.append(val)\n",
    "        imgarr.append(row)\n",
    "    \n",
    "    matplotlib.pyplot.imshow(imgarr, extent=[-3,3,-1,2])\n",
    "    matplotlib.pyplot.show()"
   ]
  },
  {
   "cell_type": "code",
   "execution_count": 121,
   "metadata": {},
   "outputs": [
    {
     "name": "stdout",
     "output_type": "stream",
     "text": [
      "mean squared error KNN: 0.0\n"
     ]
    },
    {
     "data": {
      "image/png": "[encoded data removed]",
      "text/plain": [
       "<matplotlib.figure.Figure at 0x7f5c90e1e860>"
      ]
     },
     "metadata": {},
     "output_type": "display_data"
    }
   ],
   "source": [
    "knnreg = sklearn.neighbors.KNeighborsRegressor(n_neighbors=1)\n",
    "knnreg.fit(X, y)\n",
    "\n",
    "#if we could run for longer and collect more data, would split into test and train sets, but cant really\n",
    "#split a dataset of 3 observations\n",
    "\n",
    "yhat = knnreg.predict(X)\n",
    "\n",
    "mse = numpy.sum((yhat - y) * (yhat - y))\n",
    "print('mean squared error KNN:', mse)\n",
    "\n",
    "plotheatmap(knnreg)"
   ]
  },
  {
   "cell_type": "code",
   "execution_count": 122,
   "metadata": {},
   "outputs": [
    {
     "name": "stdout",
     "output_type": "stream",
     "text": [
      "mean squared error Forest: 74.088\n"
     ]
    },
    {
     "data": {
      "image/png": "[encoded data removed]",
      "text/plain": [
       "<matplotlib.figure.Figure at 0x7f5c91e6fe80>"
      ]
     },
     "metadata": {},
     "output_type": "display_data"
    }
   ],
   "source": [
    "tree = sklearn.ensemble.RandomForestRegressor()\n",
    "tree.fit(X, y)\n",
    "\n",
    "yhat = tree.predict(X)\n",
    "\n",
    "mse = numpy.sum((yhat - y) * (yhat - y))\n",
    "print('mean squared error Forest:', mse)\n",
    "\n",
    "plotheatmap(tree)"
   ]
  },
  {
   "cell_type": "code",
   "execution_count": 124,
   "metadata": {},
   "outputs": [
    {
     "name": "stdout",
     "output_type": "stream",
     "text": [
      "mean squared error SVM: 0.0216931058304\n"
     ]
    },
    {
     "data": {
      "image/png": "[encoded data removed]",
      "text/plain": [
       "<matplotlib.figure.Figure at 0x7f5c916da588>"
      ]
     },
     "metadata": {},
     "output_type": "display_data"
    }
   ],
   "source": [
    "svm = sklearn.svm.SVR(kernel='linear')\n",
    "svm.fit(X, y)\n",
    "\n",
    "yhat = svm.predict(X)\n",
    "\n",
    "mse = numpy.sum((yhat - y) * (yhat - y))\n",
    "print('mean squared error SVM:', mse)\n",
    "\n",
    "plotheatmap(svm)"
   ]
  }
 ],
 "metadata": {
  "kernelspec": {
   "display_name": "Python 3",
   "language": "python",
   "name": "python3"
  },
  "language_info": {
   "codemirror_mode": {
    "name": "ipython",
    "version": 3
   },
   "file_extension": ".py",
   "mimetype": "text/x-python",
   "name": "python",
   "nbconvert_exporter": "python",
   "pygments_lexer": "ipython3",
   "version": "3.6.1"
  }
 },
 "nbformat": 4,
 "nbformat_minor": 2
}
